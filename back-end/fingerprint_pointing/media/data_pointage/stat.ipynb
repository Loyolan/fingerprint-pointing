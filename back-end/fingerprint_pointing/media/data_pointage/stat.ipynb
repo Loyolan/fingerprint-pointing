{
 "cells": [
  {
   "cell_type": "code",
   "execution_count": null,
   "metadata": {},
   "outputs": [],
   "source": [
    "import pandas as pd\n",
    "import numpy as np"
   ]
  },
  {
   "cell_type": "markdown",
   "metadata": {},
   "source": [
    "# IMPORT DATA"
   ]
  },
  {
   "cell_type": "code",
   "execution_count": null,
   "metadata": {},
   "outputs": [],
   "source": [
    "df = pd.read_excel('data_pointage_2022-12-07.xlsx')"
   ]
  },
  {
   "cell_type": "markdown",
   "metadata": {},
   "source": [
    "### DATA COUNT"
   ]
  },
  {
   "cell_type": "code",
   "execution_count": null,
   "metadata": {},
   "outputs": [],
   "source": [
    "print(df.shape)"
   ]
  },
  {
   "cell_type": "markdown",
   "metadata": {},
   "source": [
    "### DATA TYPE"
   ]
  },
  {
   "cell_type": "code",
   "execution_count": null,
   "metadata": {},
   "outputs": [],
   "source": [
    "print(df.dtypes)"
   ]
  },
  {
   "cell_type": "markdown",
   "metadata": {},
   "source": [
    "# DATA PREPROCESSING"
   ]
  },
  {
   "cell_type": "markdown",
   "metadata": {},
   "source": [
    "### SUPPRESSION DE COLUMNS INUTILE"
   ]
  },
  {
   "cell_type": "code",
   "execution_count": null,
   "metadata": {},
   "outputs": [],
   "source": [
    "df.head()"
   ]
  },
  {
   "cell_type": "code",
   "execution_count": null,
   "metadata": {},
   "outputs": [],
   "source": [
    "df.drop(['id', 'matiere', 'etudiant'],axis=1, inplace=True)\n",
    "df.head()"
   ]
  },
  {
   "cell_type": "markdown",
   "metadata": {},
   "source": [
    "### GERER LES VALEURS MANQUANTES"
   ]
  },
  {
   "cell_type": "code",
   "execution_count": null,
   "metadata": {},
   "outputs": [],
   "source": [
    "data_null = df.isnull()\n",
    "data_null"
   ]
  },
  {
   "cell_type": "code",
   "execution_count": null,
   "metadata": {},
   "outputs": [],
   "source": [
    "df.dropna(axis=0, inplace=True)\n",
    "df.isnull()"
   ]
  },
  {
   "cell_type": "markdown",
   "metadata": {},
   "source": [
    "### NORMALISATION DU DATASET"
   ]
  },
  {
   "cell_type": "markdown",
   "metadata": {},
   "source": [
    "CHANGEMENT DU VALEUR CATEGORQUE EN NUMERIQUE"
   ]
  },
  {
   "cell_type": "code",
   "execution_count": null,
   "metadata": {},
   "outputs": [],
   "source": [
    "score = {\n",
    "    \"YES\": 1,\n",
    "    \"NO\": 0\n",
    "    }\n",
    "df['pointageIn'] = df['pointageIn'].map(score)\n",
    "df['pointageOut'] = df['pointageOut'].map(score)\n",
    "df['pointage'] = df.apply(lambda x: x['pointageIn'] + x['pointageOut'], axis=1)\n",
    "df.drop(['pointageIn', 'pointageOut'], axis=1, inplace=True)\n",
    "df.dtypes"
   ]
  },
  {
   "cell_type": "markdown",
   "metadata": {},
   "source": [
    "GENERALISATION DU DATETIME (SPLIT DATE AND TIME)"
   ]
  },
  {
   "cell_type": "code",
   "execution_count": null,
   "metadata": {},
   "outputs": [],
   "source": [
    "from datetime import datetime\n",
    "def get_date(d):\n",
    "    deb = datetime.strptime(d, '%Y-%m-%dT%H:%M:%SZ')\n",
    "    return deb.date()\n",
    "def get_time(d):\n",
    "    deb = datetime.strptime(d, '%Y-%m-%dT%H:%M:%SZ')\n",
    "    return deb.time()\n",
    "    \n",
    "df['date'] = df.apply(lambda x: get_date(x['datetimeDebut']), axis=1)\n",
    "df['time'] = df.apply(lambda x: get_time(x['datetimeDebut']), axis=1)\n",
    "df.dtypes"
   ]
  },
  {
   "cell_type": "markdown",
   "metadata": {},
   "source": [
    "CALCUL DE LA DIFFERENCE ENTRE 2 DATETIME"
   ]
  },
  {
   "cell_type": "code",
   "execution_count": null,
   "metadata": {},
   "outputs": [],
   "source": [
    "def diff_datetime(d, f):\n",
    "    deb = datetime.strptime(d, '%Y-%m-%dT%H:%M:%SZ')\n",
    "    fin = datetime.strptime(f, '%Y-%m-%dT%H:%M:%SZ')\n",
    "    diff = fin - deb\n",
    "    return diff.total_seconds()//60\n",
    "df['duree_mn'] = df.apply(lambda x: diff_datetime(x['datetimeDebut'], x['datetimeFin']), axis=1)\n",
    "df"
   ]
  },
  {
   "cell_type": "code",
   "execution_count": null,
   "metadata": {},
   "outputs": [],
   "source": [
    "df.drop(['datetimeDebut', 'datetimeFin'], axis=1, inplace=True)\n",
    "df"
   ]
  },
  {
   "cell_type": "markdown",
   "metadata": {},
   "source": [
    "NORMALISE LES NOM DE COLONNES"
   ]
  },
  {
   "cell_type": "code",
   "execution_count": null,
   "metadata": {},
   "outputs": [],
   "source": [
    "df.rename(columns={'nom_etudiant': 'Etudiant', 'nom_matiere': 'Matiere', 'nom_parcours': 'Parcours', 'nom_niveau': 'Niveau', 'nom_profs': \"Enseignant\", 'sex_etudiant': 'Sex', 'pointage': 'Pointage', 'date': 'Date', 'time': 'Time', 'duree_mn': 'Duree_mn'}, inplace=True)\n",
    "df"
   ]
  },
  {
   "cell_type": "code",
   "execution_count": null,
   "metadata": {},
   "outputs": [],
   "source": [
    "df.sort_values('Date')\n",
    "df"
   ]
  },
  {
   "cell_type": "markdown",
   "metadata": {},
   "source": [
    "# ANALYSE GLOBAL"
   ]
  },
  {
   "cell_type": "code",
   "execution_count": null,
   "metadata": {},
   "outputs": [],
   "source": [
    "import matplotlib.pyplot as plt"
   ]
  },
  {
   "cell_type": "markdown",
   "metadata": {},
   "source": [
    "### REPARTITION DES ACTIVITES PAR MATIERES (GENERAL)"
   ]
  },
  {
   "cell_type": "code",
   "execution_count": null,
   "metadata": {},
   "outputs": [],
   "source": [
    "df['Matiere'].value_counts().plot.pie()\n",
    "plt.show()"
   ]
  },
  {
   "cell_type": "markdown",
   "metadata": {},
   "source": [
    "### REPATITION DES ACTIVITES PAR ENSEIGNANT"
   ]
  },
  {
   "cell_type": "code",
   "execution_count": null,
   "metadata": {},
   "outputs": [],
   "source": [
    "df['Enseignant'].value_counts().plot.pie()\n",
    "plt.show()"
   ]
  },
  {
   "cell_type": "markdown",
   "metadata": {},
   "source": [
    "### AGILITE DES ETUDIANTS"
   ]
  },
  {
   "cell_type": "code",
   "execution_count": null,
   "metadata": {},
   "outputs": [],
   "source": [
    "df['Pointage'].value_counts().plot.pie()\n",
    "plt.show()"
   ]
  },
  {
   "cell_type": "markdown",
   "metadata": {},
   "source": [
    "# ANALYSE PROFOND"
   ]
  },
  {
   "cell_type": "markdown",
   "metadata": {},
   "source": [
    "## ANALYSE DES DONNEES ETUDIANTS"
   ]
  },
  {
   "cell_type": "markdown",
   "metadata": {},
   "source": [
    "### GROUPEE PAR GENRE"
   ]
  },
  {
   "cell_type": "code",
   "execution_count": null,
   "metadata": {},
   "outputs": [],
   "source": [
    "group_by_sex = df.groupby(['Niveau', 'Parcours', 'Sex', 'Pointage'])['Etudiant']\n",
    "percent_gbs = ((group_by_sex.count()/group_by_sex.count().groupby(level=[0, 1, 2]).sum())*100).unstack().fillna(0)\n",
    "percent_gbs"
   ]
  },
  {
   "cell_type": "code",
   "execution_count": null,
   "metadata": {},
   "outputs": [],
   "source": [
    "percent_gbs.plot.barh()\n",
    "plt.show()"
   ]
  },
  {
   "cell_type": "markdown",
   "metadata": {},
   "source": [
    "CONCLUSION <br>\n",
    "Les filles du L1 GB sont les plus actives <br>\n",
    "Il y a quelques etudiants qui manquent l'un des deux marquage pour L1/IG (En retard, ou sortie en avant la fin du cours) <br>"
   ]
  },
  {
   "cell_type": "markdown",
   "metadata": {},
   "source": [
    "## ANALYSE PROFOND PAR MATIERE"
   ]
  },
  {
   "cell_type": "code",
   "execution_count": null,
   "metadata": {},
   "outputs": [],
   "source": [
    "group_by_matiere = df.groupby(['Matiere', 'Date', 'Time', 'Niveau', 'Parcours'])['Duree_mn']\n",
    "data_matiere = {'Matiere': [], 'Duree': [], 'Niveau': [], 'Parcours': []}\n",
    "for mat, frame in group_by_matiere:\n",
    "    data_matiere['Matiere'].append(mat[0])\n",
    "    data_matiere['Niveau'].append(mat[3])\n",
    "    data_matiere['Parcours'].append(mat[4])\n",
    "    data_matiere['Duree'].append(frame.mean())\n",
    "df_matiere = pd.DataFrame(data_matiere)\n",
    "df_matiere.sort_values(by=['Matiere', 'Niveau', 'Parcours'])[['Matiere', 'Niveau', 'Parcours']]\n",
    "df_matiere.head()"
   ]
  },
  {
   "cell_type": "markdown",
   "metadata": {},
   "source": [
    "### DUREE TOTAL D'HEURE PAR CHAQUE MATIERE"
   ]
  },
  {
   "cell_type": "code",
   "execution_count": null,
   "metadata": {},
   "outputs": [],
   "source": [
    "group_by_mat = df_matiere.groupby(['Matiere'])\n",
    "group_by_mat.sum()/60"
   ]
  },
  {
   "cell_type": "code",
   "execution_count": null,
   "metadata": {},
   "outputs": [],
   "source": [
    "(group_by_mat.sum()/60).plot.barh()"
   ]
  },
  {
   "cell_type": "markdown",
   "metadata": {},
   "source": [
    "CONCLUSION <br>\n",
    "La matiere 'LANGAGE DE PROGRAMMATION JAVA' a le nombre d'heures le plus elevEs (plus de 30H) <br>\n",
    "Par contre la matiere 'Protocole TCP/IP' n'a que moins de 8H de temps "
   ]
  },
  {
   "cell_type": "markdown",
   "metadata": {},
   "source": [
    "### NOMBRE DES COURS PRIS PAR CHAQUE NIVEAU/PARCOURS"
   ]
  },
  {
   "cell_type": "code",
   "execution_count": null,
   "metadata": {},
   "outputs": [],
   "source": [
    "group_by_mat_PN = df_matiere.groupby(['Matiere', 'Niveau', 'Parcours'])\n",
    "group_by_mat_PN.count()"
   ]
  },
  {
   "cell_type": "code",
   "execution_count": null,
   "metadata": {},
   "outputs": [],
   "source": [
    "group_by_mat_PN.count().unstack().fillna(0).plot.barh()"
   ]
  },
  {
   "cell_type": "markdown",
   "metadata": {},
   "source": [
    "CONCLUSION <br>\n",
    "D'apres cet graphe, on peut voir tout de suite qu'il y a eu une erreur lors de la creation de ce donnees (donnees fake), pour le cours 'Systeme d'exploitation Unix' pour le L1/GB<br>\n",
    "D'autre part, on peut en deduire que la matiere 'LANGAGE DE PROGRAMMATION JAVA' pour le GB a la valeur plus elevEs<br>\n",
    "Et aussi, les etudiants du L1/GB ont pris un plus de cours d'ANGLAIS que L1/IG "
   ]
  },
  {
   "cell_type": "markdown",
   "metadata": {},
   "source": [
    "### DUREE TOTAL D'HEURE D'ETUDE PAR CHAQUE PARCOURS/NIVEAU"
   ]
  },
  {
   "cell_type": "code",
   "execution_count": null,
   "metadata": {},
   "outputs": [],
   "source": [
    "group_by_PN = df_matiere.groupby(['Niveau', 'Parcours'])['Duree']\n",
    "group_by_PN.sum()/60"
   ]
  },
  {
   "cell_type": "code",
   "execution_count": null,
   "metadata": {},
   "outputs": [],
   "source": [
    "(group_by_PN.sum()/60).plot.barh()"
   ]
  },
  {
   "cell_type": "markdown",
   "metadata": {},
   "source": [
    "CONCLUSION <br>\n",
    "Les etudiants L1/GB ont plus de 100H de cours theorique, par contre L1/IG n'ont que soixantaine d'heures "
   ]
  },
  {
   "cell_type": "markdown",
   "metadata": {},
   "source": [
    "## ANALYSE PROFOND DU POINTAGE"
   ]
  },
  {
   "cell_type": "code",
   "execution_count": null,
   "metadata": {},
   "outputs": [],
   "source": [
    "group_by_pointage = df.groupby(['Matiere', 'Date', 'Time', 'Niveau', 'Parcours', 'Pointage'])['Etudiant']\n",
    "data_pointage = {'Matiere': [], 'Date': [], 'Time': [], 'Niveau': [], 'Parcours': [], 'Pointage': [], 'Etudiant': []}\n",
    "for point, frame in group_by_pointage:\n",
    "    data_pointage['Matiere'].append(point[0])\n",
    "    data_pointage['Date'].append(point[1])\n",
    "    data_pointage['Time'].append(point[2])\n",
    "    data_pointage['Niveau'].append(point[3])\n",
    "    data_pointage['Parcours'].append(point[4])\n",
    "    data_pointage['Pointage'].append(point[5])\n",
    "    data_pointage['Etudiant'].append(frame.count())\n",
    "df_pointage = pd.DataFrame(data_pointage)\n",
    "print(df_pointage.shape)\n",
    "df_pointage.head()"
   ]
  },
  {
   "cell_type": "code",
   "execution_count": null,
   "metadata": {},
   "outputs": [],
   "source": [
    "df_pointage.sort_values(by=['Time'])[['Time']]\n",
    "pointage_group_by_time = df_pointage.groupby(['Time', 'Pointage'])['Etudiant']\n",
    "pointage_group_by_time.sum()"
   ]
  },
  {
   "cell_type": "code",
   "execution_count": null,
   "metadata": {},
   "outputs": [],
   "source": [
    "percent = (pointage_group_by_time.sum() / pointage_group_by_time.sum().groupby(level=[0]).sum())*100\n",
    "percent"
   ]
  },
  {
   "cell_type": "code",
   "execution_count": null,
   "metadata": {},
   "outputs": [],
   "source": [
    "percent.unstack().fillna(0).plot.barh()"
   ]
  },
  {
   "cell_type": "markdown",
   "metadata": {},
   "source": [
    "CONCLUSION <br>\n",
    "On peut en deduire a partir de cet graphe que l'agilitE des etudiants le matin et l'apres midi n'ont pas beaucoup de difference <br>\n",
    "Mais par contre a 07:30, il y a quelques etudiant qui manquent une marquarge, Probablement en retard"
   ]
  },
  {
   "cell_type": "markdown",
   "metadata": {},
   "source": [
    "### VARIATION DU POINTAGE AU FIL DU TEMPS"
   ]
  },
  {
   "cell_type": "code",
   "execution_count": null,
   "metadata": {},
   "outputs": [],
   "source": [
    "df_pointage.sort_values(by=['Date', 'Time', 'Matiere'])[['Matiere', 'Date', 'Time']]\n",
    "pointage_group_by_MDTP = df_pointage.groupby(['Date', 'Time', 'Matiere', 'Pointage'])['Etudiant']\n",
    "print(pointage_group_by_MDTP.sum().shape)\n",
    "pointage_group_by_MDTP.sum()\n",
    "percent_MDTP = (pointage_group_by_MDTP.sum() / pointage_group_by_MDTP.sum().groupby(level=[0, 1, 2]).sum())*100\n",
    "percent_MDTP.unstack().fillna(0).reset_index(level=[1], drop=True).reset_index(level=[1])"
   ]
  },
  {
   "cell_type": "code",
   "execution_count": null,
   "metadata": {},
   "outputs": [],
   "source": [
    "percent_MDTP.unstack().fillna(0).reset_index(level=[1], drop=True).reset_index(level=[1]).plot.bar(figsize=(22, 10))"
   ]
  },
  {
   "cell_type": "code",
   "execution_count": null,
   "metadata": {},
   "outputs": [],
   "source": [
    "df_pointage.sort_values(by=['Date', 'Time', 'Matiere'])[['Matiere', 'Date', 'Time']]\n",
    "pointage_group_by_MDTP = df_pointage.groupby(['Date', 'Time', 'Matiere', 'Pointage'])['Etudiant']\n",
    "print(pointage_group_by_MDTP.sum().shape)\n",
    "pointage_group_by_MDTP.sum()\n",
    "percent_MDTP = (pointage_group_by_MDTP.sum() / pointage_group_by_MDTP.sum().groupby(level=[0, 1, 2]).sum())*100\n",
    "percent_MDTP.unstack().fillna(0).reset_index(level=[1], drop=True).reset_index(level=[1])"
   ]
  }
 ],
 "metadata": {
  "kernelspec": {
   "display_name": "Python 3 (ipykernel)",
   "language": "python",
   "name": "python3"
  },
  "language_info": {
   "codemirror_mode": {
    "name": "ipython",
    "version": 3
   },
   "file_extension": ".py",
   "mimetype": "text/x-python",
   "name": "python",
   "nbconvert_exporter": "python",
   "pygments_lexer": "ipython3",
   "version": "3.11.0"
  },
  "vscode": {
   "interpreter": {
    "hash": "5238573367df39f7286bb46f9ff5f08f63a01a80960060ce41e3c79b190280fa"
   }
  }
 },
 "nbformat": 4,
 "nbformat_minor": 4
}
